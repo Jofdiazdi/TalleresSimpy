{
  "nbformat": 4,
  "nbformat_minor": 0,
  "metadata": {
    "colab": {
      "name": "1. Introduccion a simpy.ipynb",
      "version": "0.3.2",
      "provenance": [],
      "collapsed_sections": [],
      "include_colab_link": true
    },
    "kernelspec": {
      "name": "python3",
      "display_name": "Python 3"
    }
  },
  "cells": [
    {
      "cell_type": "markdown",
      "metadata": {
        "id": "view-in-github",
        "colab_type": "text"
      },
      "source": [
        "<a href=\"https://colab.research.google.com/github/Jofdiazdi/TalleresSimpy/blob/master/Talleres/1.%20Introduccion%20a%20simpy.ipynb\" target=\"_parent\"><img src=\"https://colab.research.google.com/assets/colab-badge.svg\" alt=\"Open In Colab\"/></a>"
      ]
    },
    {
      "cell_type": "markdown",
      "metadata": {
        "id": "eJAhJO9OVUtR",
        "colab_type": "text"
      },
      "source": [
        "# Tutorial Simpy\n",
        "\n",
        "\n",
        "\n",
        "\n",
        "\n",
        "\n"
      ]
    },
    {
      "cell_type": "markdown",
      "metadata": {
        "id": "TevZPb7FsBni",
        "colab_type": "text"
      },
      "source": [
        " ## Conceptos basicos"
      ]
    },
    {
      "cell_type": "markdown",
      "metadata": {
        "id": "ZaiwYc7XsJ70",
        "colab_type": "text"
      },
      "source": [
        " ### Procesos y el ambiente de ejecucion\n",
        " \n",
        " Es una libreria de simulaciondiscreta en done el comportamiento de componentes activos como vehiculos, mensajes o clientes es modelado a partir de procesos. \n",
        "\n",
        "Por ejemplo el comportamiento de un carro:"
      ]
    },
    {
      "cell_type": "code",
      "metadata": {
        "id": "xXFUX2-aYNHE",
        "colab_type": "code",
        "outputId": "2a4be122-0d86-4965-c3b7-59f8139dd124",
        "colab": {
          "base_uri": "https://localhost:8080/",
          "height": 85
        }
      },
      "source": [
        "!pip install simpy #Instalamos simpy"
      ],
      "execution_count": 0,
      "outputs": [
        {
          "output_type": "stream",
          "text": [
            "Collecting simpy\n",
            "  Downloading https://files.pythonhosted.org/packages/5a/64/8f0fc71400d41b6c2c6443d333a1cade458d23d4945ccda700c810ff6aae/simpy-3.0.11-py2.py3-none-any.whl\n",
            "Installing collected packages: simpy\n",
            "Successfully installed simpy-3.0.11\n"
          ],
          "name": "stdout"
        }
      ]
    },
    {
      "cell_type": "code",
      "metadata": {
        "id": "t6xr7y8IVSlk",
        "colab_type": "code",
        "outputId": "094ae5ab-3e82-4793-d8c1-664a90c7193f",
        "colab": {
          "base_uri": "https://localhost:8080/",
          "height": 102
        }
      },
      "source": [
        "import simpy #Importamos simpy\n",
        "\n",
        "def carro(env):\n",
        "  while True :\n",
        "    print('Empezo a parquear en el tiempo %d' % env.now)\n",
        "    duracion_parqueo = 5\n",
        "    yield env.timeout(duracion_parqueo)\n",
        "    \n",
        "    print('Empezo a conducir en el tiempo %d' % env.now)\n",
        "    duracion_viaje = 2\n",
        "    yield env.timeout(duracion_viaje)\n",
        "    \n",
        "env = simpy.Environment()\n",
        "env.process(carro(env))\n",
        "env.run(until=15)"
      ],
      "execution_count": 0,
      "outputs": [
        {
          "output_type": "stream",
          "text": [
            "Empezo a parquear en el tiempo 0\n",
            "Empezo a conducir en el tiempo 5\n",
            "Empezo a parquear en el tiempo 7\n",
            "Empezo a conducir en el tiempo 12\n",
            "Empezo a parquear en el tiempo 14\n"
          ],
          "name": "stdout"
        }
      ]
    },
    {
      "cell_type": "markdown",
      "metadata": {
        "id": "OA9YzR2sYo7g",
        "colab_type": "text"
      },
      "source": [
        "El comando  `!pip install simpy` nos ayuda a instalar lalibreria simpy en nuestro ambiente de ejecucion.\n",
        "\n",
        "Para poder usar la libreria tenemos que importarla con el comando `import simpy` luego comenzar a programar la solucion.\n",
        "\n",
        "La siguiente funcion `carro(evn)` modela el comportamiento de un carro el cual se demora un tiempo parqueando y un tiempo en viaje.\n",
        "\n",
        "Posemos distinguir 3 lineas importantes durante la funcion:\n",
        "```\n",
        "print('Empezo a parquear en el tiempo %d' % env.now) #1\n",
        "duracion_parqueo = 5 #2\n",
        "yield env.timeout(duracion_parqueo)#3\n",
        "\n",
        "```\n",
        "\n",
        "En la primera linea podemos destacar la declaracion  `env.now` esta nos proporciona el tiempo de reloj actual de la simulacion.\n",
        "\n",
        "La segunda linea nos define un tiempo de espera \n",
        "y la tercera linea mueve el reloj hacia el tiempo de espera definido.\n",
        "\n",
        "Por ultimo vemos como se inicializa un ambiente, se genera un proceso y se corre el ambiente.\n",
        "\n",
        "```\n",
        "env = simpy.Environment()\n",
        "env.process(carro(env))\n",
        "env.run(until=15)\n",
        "\n",
        "```\n",
        "\n",
        "La funcion `Enviroment()` de simpy nos proporciona un ambiente de ejecusion donde se inicializara un reloj y se correran los procesos.\n",
        "\n",
        "La funcion del `env.process(carro(env))` genera un procesos y le dice al ambiente que la funcion carro debe ser tratada como tal.\n",
        "\n",
        "Por ultimo la funcion  `run(until=15)` simula el sistema por 15 unidades de tiempo"
      ]
    },
    {
      "cell_type": "markdown",
      "metadata": {
        "id": "dGsjWfRVevpF",
        "colab_type": "text"
      },
      "source": [
        "### Interaccion entre procesos"
      ]
    },
    {
      "cell_type": "markdown",
      "metadata": {
        "id": "ev4hWs_H2s1G",
        "colab_type": "text"
      },
      "source": [
        "Los procesos en simpy pueden ser usados como eventos, en si son la libreria los maneja como un tipo de evento. Cuando lo esperas vuelves a esa parte de codigo cuando el proceso termina. \n",
        "\n",
        "Miremos esto en el siguiente ejemplo:"
      ]
    },
    {
      "cell_type": "code",
      "metadata": {
        "id": "yW-tColJeniO",
        "colab_type": "code",
        "colab": {
          "base_uri": "https://localhost:8080/",
          "height": 102
        },
        "outputId": "6f6bc24d-84fa-44c6-eb12-2103e6077e76"
      },
      "source": [
        "import simpy\n",
        "\n",
        "def charge(env, duracion):\n",
        "  yield env.timeout(duracion)\n",
        "  \n",
        "def carro(env):\n",
        "  while True:\n",
        "    print('Comienza a parquear y cargar en %d' % env.now)\n",
        "    \n",
        "    duracion_carga = 5\n",
        "    \n",
        "    yield env.process(charge(env,duracion_carga))\n",
        "    \n",
        "    print('Comienza a conducir en %d' % env.now)\n",
        "    \n",
        "    duracion_viaje = 2\n",
        "    yield env.timeout(duracion_viaje)\n",
        "    \n",
        "env = simpy.Environment()\n",
        "env.process(carro(env))\n",
        "env.run(until=15)"
      ],
      "execution_count": 11,
      "outputs": [
        {
          "output_type": "stream",
          "text": [
            "Comienza a parquear y cargar en 0\n",
            "Comienza a conducir en 5\n",
            "Comienza a parquear y cargar en 7\n",
            "Comienza a conducir en 12\n",
            "Comienza a parquear y cargar en 14\n"
          ],
          "name": "stdout"
        }
      ]
    }
  ]
}