{
  "nbformat": 4,
  "nbformat_minor": 0,
  "metadata": {
    "colab": {
      "name": "1. Introduccion a simpy.ipynb",
      "version": "0.3.2",
      "provenance": [],
      "collapsed_sections": [],
      "include_colab_link": true
    },
    "kernelspec": {
      "name": "python3",
      "display_name": "Python 3"
    }
  },
  "cells": [
    {
      "cell_type": "markdown",
      "metadata": {
        "id": "view-in-github",
        "colab_type": "text"
      },
      "source": [
        "<a href=\"https://colab.research.google.com/github/Jofdiazdi/TalleresSimpy/blob/master/Talleres/1.%20Introduccion%20a%20simpy.ipynb\" target=\"_parent\"><img src=\"https://colab.research.google.com/assets/colab-badge.svg\" alt=\"Open In Colab\"/></a>"
      ]
    },
    {
      "cell_type": "markdown",
      "metadata": {
        "id": "eJAhJO9OVUtR",
        "colab_type": "text"
      },
      "source": [
        "# Tutorial Simpy\n",
        "\n",
        "\n",
        "\n",
        "\n",
        "\n",
        "\n"
      ]
    },
    {
      "cell_type": "markdown",
      "metadata": {
        "id": "TevZPb7FsBni",
        "colab_type": "text"
      },
      "source": [
        " ## Conceptos basicos"
      ]
    },
    {
      "cell_type": "markdown",
      "metadata": {
        "id": "vdmrDLpwU0Ms",
        "colab_type": "text"
      },
      "source": [
        "Simpy es una libreria en python de simulacion discreta en donde el comportamiento de componentes activos como vehiculos, mensajes o clientes es modelado a partir de procesos. \n",
        "\n",
        "* **Proceso**: Un proceso e una funcion que modela el comprotamiento de una parte del modelo a estudiar. Los procesos \"viven\" en un ambiente y durante su ejecuccion pueden crear eventos e interactuar con otros procesos.\n",
        "\n",
        "* **Ambiente**: Un ambiente es un entorno el cual nos proporciona la creacion y control de un reloj de simulacion y la capacidad de crear procesos y asociarlos al ambiente.\n",
        "\n",
        "* **Evento**: Son sucesos instantaneos, es decir duracion 0 los cuales permiten la interaccion entre los procesos del ambiente. Un proceso puede se tratado como un evento Simpy.\n",
        "\n",
        "Primero tenemos que instalar Simpy usando este comando:\n"
      ]
    },
    {
      "cell_type": "code",
      "metadata": {
        "id": "suEDy0h5Ztgk",
        "colab_type": "code",
        "colab": {}
      },
      "source": [
        "!pip install simpy #Instalamos simpy"
      ],
      "execution_count": 0,
      "outputs": []
    },
    {
      "cell_type": "markdown",
      "metadata": {
        "id": "B-8CIShEZ7Gj",
        "colab_type": "text"
      },
      "source": [
        "Y es muy imortante importar al libreria antes de usarla:"
      ]
    },
    {
      "cell_type": "code",
      "metadata": {
        "id": "QvDlbN6NZ6P0",
        "colab_type": "code",
        "colab": {}
      },
      "source": [
        "import simpy #Importamos simpy"
      ],
      "execution_count": 0,
      "outputs": []
    },
    {
      "cell_type": "markdown",
      "metadata": {
        "id": "ZaiwYc7XsJ70",
        "colab_type": "text"
      },
      "source": [
        " ### Procesos y el ambiente de ejecucion\n",
        " \n",
        "Miremos el siguiente ejemplo del modelo de un carro el cual pasa por 2 eventos, parquear y arrancar:"
      ]
    },
    {
      "cell_type": "code",
      "metadata": {
        "id": "t6xr7y8IVSlk",
        "colab_type": "code",
        "outputId": "d1950d0b-0a5a-4857-dce0-403d0a4ab915",
        "colab": {
          "base_uri": "https://localhost:8080/",
          "height": 102
        }
      },
      "source": [
        "def carro(env):\n",
        "  while True :\n",
        "    print('Empezo a parquear en el tiempo %d' % env.now)\n",
        "    duracion_parqueo = 5\n",
        "    yield env.timeout(duracion_parqueo)\n",
        "    \n",
        "    print('Arranco en el tiempo %d' % env.now)\n",
        "    duracion_viaje = 2\n",
        "    yield env.timeout(duracion_viaje)\n",
        "    \n",
        "env = simpy.Environment()\n",
        "env.process(carro(env))\n",
        "env.run(until=15)"
      ],
      "execution_count": 2,
      "outputs": [
        {
          "output_type": "stream",
          "text": [
            "Empezo a parquear en el tiempo 0\n",
            "Arranco en el tiempo 5\n",
            "Empezo a parquear en el tiempo 7\n",
            "Arranco en el tiempo 12\n",
            "Empezo a parquear en el tiempo 14\n"
          ],
          "name": "stdout"
        }
      ]
    },
    {
      "cell_type": "markdown",
      "metadata": {
        "id": "OA9YzR2sYo7g",
        "colab_type": "text"
      },
      "source": [
        "La funcion `carro(evn)` modela el comportamiento del carro, por lo tanto es un proceso.\n",
        "\n",
        "Posemos distinguir 3 momentos importantes en el:\n",
        "```\n",
        "print('Empezo a parquear en el tiempo %d' % env.now) #1\n",
        "duracion_parqueo = 5 #2\n",
        "yield env.timeout(duracion_parqueo)#3\n",
        "\n",
        "```\n",
        "\n",
        "* La primera linea nos define un evento, muy sencillo, el cual nos avisa que el carro empezo a parquear. La declaracion `env.now` retorna el tiempo de reloj en ese instante de la simulacion.\n",
        "\n",
        "* La segunda linea nos define el tiempo que va a durar el proceso de parqueo o mejor dicho cuanto va a durar el carro parqueado.\n",
        "\n",
        "* La tercera linea mueve el reloj hacia el tiempo definido con la funcion `env.timeout()`\n",
        "\n",
        "Con respecto a lo anterior, las sigueintes 3 lineas son muy similares en estructura y nos modelan cuando el carro empieza a arrancar y cuanto dura en ese estado.\n",
        "\n",
        "```\n",
        "env = simpy.Environment()\n",
        "env.process(carro(env))\n",
        "env.run(until=15)\n",
        "\n",
        "```\n",
        "\n",
        "La funcion `Enviroment()` de simpy nos proporciona un ambiente de ejecusion donde se inicializara un reloj y se correran los procesos.\n",
        "\n",
        "La funcion del `env.process(carro(env))` genera un proceso y lo asocia al ambiente creado.\n",
        "\n",
        "Por ultimo la funcion `env.run(until=15)` simula el sistema por 15 unidades de tiempo"
      ]
    },
    {
      "cell_type": "markdown",
      "metadata": {
        "id": "dGsjWfRVevpF",
        "colab_type": "text"
      },
      "source": [
        "### Interaccion entre procesos"
      ]
    },
    {
      "cell_type": "markdown",
      "metadata": {
        "id": "ev4hWs_H2s1G",
        "colab_type": "text"
      },
      "source": [
        "Los procesos en simpy pueden ser tratados como eventos, es decir al crear un proceso dentro de la ejecucion de otro con el comando yield, el ambiente iniciara el proceso creado y solo volvera el actual cuando alla terminado.\n",
        "\n",
        "Miremos esto en el siguiente ejemplo:\n",
        "\n",
        "Supongamos que ahora cuando nuestro carro parquea, tambien empieza a cargar durante un tiempo."
      ]
    },
    {
      "cell_type": "code",
      "metadata": {
        "id": "yW-tColJeniO",
        "colab_type": "code",
        "outputId": "94b1065f-ed68-41c8-baf4-d965827d6947",
        "colab": {
          "base_uri": "https://localhost:8080/",
          "height": 289
        }
      },
      "source": [
        "import simpy\n",
        "\n",
        "def carga(env, duracion):\n",
        "  print('Va en 25%')\n",
        "  print('Va en 50%')\n",
        "  print('Carga completa')\n",
        "  yield env.timeout(duracion)\n",
        "  \n",
        "def carro(env):\n",
        "  while True:\n",
        "    print('Comienza a parquear y cargar en el tiempo %d' % env.now)\n",
        "    \n",
        "    duracion_carga = 5\n",
        "    \n",
        "    yield env.process(carga(env,duracion_carga))\n",
        "    \n",
        "    print('Arranco en el tiempo %d' % env.now)\n",
        "    \n",
        "    duracion_viaje = 2\n",
        "    yield env.timeout(duracion_viaje)\n",
        "\n",
        "    print('Viaje termina en el tiempo %d' % env.now)\n",
        "\n",
        "    \n",
        "env = simpy.Environment()\n",
        "env.process(carro(env))\n",
        "env.run(until=15)"
      ],
      "execution_count": 5,
      "outputs": [
        {
          "output_type": "stream",
          "text": [
            "Comienza a parquear y cargar en el tiempo 0\n",
            "Va en 25%\n",
            "Va en 50%\n",
            "Carga completa\n",
            "Arranco en el tiempo 5\n",
            "Viaje termina en el tiempo 7\n",
            "Comienza a parquear y cargar en el tiempo 7\n",
            "Va en 25%\n",
            "Va en 50%\n",
            "Carga completa\n",
            "Arranco en el tiempo 12\n",
            "Viaje termina en el tiempo 14\n",
            "Comienza a parquear y cargar en el tiempo 14\n",
            "Va en 25%\n",
            "Va en 50%\n",
            "Carga completa\n"
          ],
          "name": "stdout"
        }
      ]
    },
    {
      "cell_type": "markdown",
      "metadata": {
        "id": "22glLHogiUD1",
        "colab_type": "text"
      },
      "source": [
        "Para modelar el comportameinto descrito anteriormente, tenemos que crear otro proceso el cual se encargara de modelar el comportamiento del carro cuando se esta cargando: `carga()`\n",
        "\n",
        "Vemos que este proceso es creado durante el proceso central del carro. Y solo vuelve a el cuando se a finalizado. Ademas carga tambien demora cierto tiempo y al finalizarse vemos como aumenta el reloj de simulacion a dicho tiempo.\n",
        "\n"
      ]
    },
    {
      "cell_type": "markdown",
      "metadata": {
        "id": "-v8hkWbCcWvi",
        "colab_type": "text"
      },
      "source": [
        "## Referencias\n",
        "\n",
        "Ejemplos y definiciones tomadas de la pagina oficial de simpy: https://simpy.readthedocs.io/en/latest/simpy_intro/basic_concepts.html"
      ]
    }
  ]
}