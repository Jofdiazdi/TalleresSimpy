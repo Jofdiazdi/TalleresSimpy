{
  "nbformat": 4,
  "nbformat_minor": 0,
  "metadata": {
    "colab": {
      "name": "3. Simulación de eventos discretos: servidores en serie y en paralelo.ipynb",
      "version": "0.3.2",
      "provenance": [],
      "collapsed_sections": [],
      "include_colab_link": true
    },
    "kernelspec": {
      "name": "python3",
      "display_name": "Python 3"
    }
  },
  "cells": [
    {
      "cell_type": "markdown",
      "metadata": {
        "id": "view-in-github",
        "colab_type": "text"
      },
      "source": [
        "<a href=\"https://colab.research.google.com/github/Jofdiazdi/TalleresSimpy/blob/master/Talleres/3.Simulaci%C3%B3n%20de%20eventos%20discretos%20servidores%20en%20serie%20y%20en%20paralelo.ipynb\" target=\"_parent\"><img src=\"https://colab.research.google.com/assets/colab-badge.svg\" alt=\"Open In Colab\"/></a>"
      ]
    },
    {
      "cell_type": "markdown",
      "metadata": {
        "id": "EOfCHrxmyp9j",
        "colab_type": "text"
      },
      "source": [
        "#Simulación de eventos discretos en Simpy\n",
        "Por: Benjamin Cruz Álvarez\n",
        "\n",
        "##Conceptos a evaluar\n",
        "- Colas\n",
        "- Recursos\n",
        "- Servidores en paralelo\n",
        "- Servidores en serie\n",
        "- Medidas de desempeño\n",
        "\n",
        "\n",
        "##Descripción del sistema\n",
        "En esta práctica veremos como implementar una simulación donde utilicemos estos conceptos usando la librería SimPy.\n",
        "Primero consideremos el siguiente enunciado:\n",
        "\n",
        "Tenemos una carnicería que cuenta con dos carniceros quienes se encargan de atender a los clientes en orden de llegada, es decir, si uno de los carniceros se desocupa, atiende al que sigue en la fila, si los dos carniceros están libres el cliente es atendido por cualquiera de los dos (sin preferencia). Luego de esto, los clientes pasan a la caja a pagar su pedido. El sistema se ve representado así:\n",
        "\n",
        "![Sistema](https://i.ibb.co/QrnnkY4/fff.png)\n",
        "\n",
        "Podemos apreciar que los clientes (entidades) que llegan al sistema, hacen la cola si los carniceros están ocupados, de lo contrario pasan a cualquiera de los dos que estén desocupados.\n",
        "\n",
        "Ahora bien, ya que sabemos como funciona el sistema definamos los parámetros para determinar el tiempo entre llegadas y la duración del servicio.\n",
        "\n",
        "- El tiempo entre llegadas se distribuye de manera exponencial con media 180 segundos.\n",
        "\n",
        "- El tiempo de servicio del carnicero 1 y 2 (Recursos, Servidor 1), se distribuye uniforme entre 360 segundos y 540 segundos\n",
        "\n",
        "- El tiempo de servicio de la caja (Servidor 2) se distribuye uniforme entre 180 y 360 segundos.\n",
        "\n",
        "- El tiempo de viaje entre el servidor 1 y la cola para el servidor 2 es despreciable.\n",
        "\n",
        "- Tiempo simulación: 1800 segundos\n",
        "\n",
        "Cabe aclarar que estos parámetros son totalmente modificables, como se verá más adelante. Ahora pasaremos a programarlo en Python utilizando la librería SimPy.\n",
        "\n",
        "¡Muy importante! Siempre antes de usar la librería es necesario instalarla. Recuerde configurar su tipo de entorno de ejecución a Python 3  \n",
        "\n",
        "\n",
        "\n",
        "\n",
        "\n",
        "\n"
      ]
    },
    {
      "cell_type": "code",
      "metadata": {
        "id": "qKS4GhMCGNz7",
        "colab_type": "code",
        "colab": {}
      },
      "source": [
        "!pip install simpy"
      ],
      "execution_count": 0,
      "outputs": []
    },
    {
      "cell_type": "markdown",
      "metadata": {
        "id": "MwcNARCw5l9c",
        "colab_type": "text"
      },
      "source": [
        "Luego de haber instalado la librería es igual de importante importarla, además importaremos algunas librerías nativas de Python que nos seran útiles para generar las llegadas y tiempos de servicio.\n",
        "\n"
      ]
    },
    {
      "cell_type": "code",
      "metadata": {
        "id": "C7dXPS7X6Qdb",
        "colab_type": "code",
        "colab": {}
      },
      "source": [
        "import random              #Se importa la librería para generar números pseudoaleatorios\n",
        "import math                #Se importa a librería para usar funciones matemáticas como logaritmo natural\n",
        "import simpy               #Se importa la librería necesaria para simular. (Es necesario instalarla)"
      ],
      "execution_count": 0,
      "outputs": []
    },
    {
      "cell_type": "markdown",
      "metadata": {
        "id": "ofKO2XvZ7wWz",
        "colab_type": "text"
      },
      "source": [
        "Ahora definimos algunas constantes importantes que utilizaremos a lo largo de la simulación.\n",
        "\n",
        "\n"
      ]
    },
    {
      "cell_type": "code",
      "metadata": {
        "id": "buODt8n_6fZb",
        "colab_type": "code",
        "colab": {}
      },
      "source": [
        "NroClientes = 5            #Definimos la cantidad de clientes que queremos que lleguen a nuestro sistema\n",
        "TiempoSimulacion = 1800    #Si queremos podemos definir un tiempo de simulación(Ya no dependerá del número de clientes). Recordemos que está en segundos\n",
        "LlegaMedia = 180           # Parámetro de la distribución exponencial\n",
        "MinServ1 = 360             # Parámetros de la distribución uniforme para el tiempo de servicio en el servidor 1\n",
        "MaxServ1 = 540\n",
        "MinServ2 = 180             # Parámetros de la distribución uniforme para el tiempo de servicio en el servidor 1\n",
        "MaxServ2 = 360\n",
        "RSeed = 40                 # Usaremos como semilla para replicar la secuencia de números pseudoaleatorios\n",
        "#---------Variables de desempeño: estos auxiliares nos van a servir para calcular las variables de desempeño -------#\n",
        "UsoServ1 = 0.0             #Utilización del servidor 1\n",
        "UsoServ2 = 0.0             #Utilización del servidor 2\n",
        "TiempoFinUltCliente = 0.0  #Tiempo total de las entidades en el sistema (Sólo toma en cuenta las que salieron del sistema)\n",
        "NroClientesAtendidos = 0.0 #Cantidad de clientes que salieron del sistema \n",
        "TiempoEspCola1 = 0.0       #Tiempo total espera en cola 1 (Solo tiene en cuenta los clientes que salieron de cola)\n",
        "NroClientesSalCo1 = 0.0    #Número de clientes que salieron de cola 1\n",
        "TiempoEspCola2 = 0.0       #Tiempo total espera en cola 2\n",
        "NroClientesSalCo2= 0.0     #Número de clientes que salieron de cola 2"
      ],
      "execution_count": 0,
      "outputs": []
    },
    {
      "cell_type": "markdown",
      "metadata": {
        "id": "JoeUga6H7tGh",
        "colab_type": "text"
      },
      "source": [
        "Es posible modificar el tipo de distribución que siguen las llegadas y tiempos de servicio, lo único que se debe hacer es definir los parámetros de la distribución y reemplazar en las métodos que se mostrarán posteriormente, la función que genere la variable aleatoria deseada (por el método de transformada inversa, por ejemplo).\n",
        "\n",
        "Una vez definidas estas variables, se escribe el programa principal"
      ]
    },
    {
      "cell_type": "code",
      "metadata": {
        "id": "qh0dzYWG83mM",
        "colab_type": "code",
        "colab": {}
      },
      "source": [
        "print(\"Inicio de la simulación\")\n",
        "random.seed(RSeed)\n",
        "env = simpy.Environment()                 #Creamos el ambiente de simulación\n",
        "serv1 = simpy.Resource(env, 2)            #Creamos el servidor 1, las entrada env representa el ambiente al que está asociado el servidor\n",
        "                                          #El 2 representa el número de recursos(carniceros)\n",
        "serv2 = simpy.Resource(env, 1)            # Igual que el anterior, pero notar que en este sólo hay un recurso (La caja)\n",
        "env.process(main(env, serv1, serv2))      #Invocamos el método principal donde se configura la simulación.\n",
        "env.run(until = TiempoSimulacion)         #Corremos la simulación. Si queremos que la simulación corra para un número de clientes deseado solo debemos quitar la instrucción 'until = TiempoSimulacion'\n",
        "                                          #Además, tendremos que cambiar la función 'main', como se indicará posteriormente."
      ],
      "execution_count": 0,
      "outputs": []
    },
    {
      "cell_type": "markdown",
      "metadata": {
        "id": "YK3eapCPAUOx",
        "colab_type": "text"
      },
      "source": [
        "Una vez configuramos el programa principal, procedemos a definir la función 'main' que será la cual controla la simulación."
      ]
    },
    {
      "cell_type": "code",
      "metadata": {
        "id": "AfJaJcj5HKhO",
        "colab_type": "code",
        "colab": {}
      },
      "source": [
        "def main(env, serv1, serv2):                    #Recordemos los parámetros que le enviamos en el fragmento de código anterior\n",
        "  i = 0\n",
        "  while True:                                   #Se ejecuta hasta que se acabe el tiempo\n",
        "    r = random.random()                         #Generamos número aleatorio\n",
        "    llegada = -LlegaMedia*math.log(r)           #Transformada inversa para la distribución exponencial\n",
        "    yield env.timeout(llegada)                  #Se deja trasncurri el tiempo de llegada, la simulación empieza en 0    \n",
        "    env.process(cliente(env, i, serv1, serv2))  # Una vez transcurrido el tiempo de una llegada, se invoca la función cliente que se encarga de simular el comportamiento de esta entidad\n",
        "    i += 1"
      ],
      "execution_count": 0,
      "outputs": []
    },
    {
      "cell_type": "markdown",
      "metadata": {
        "id": "9-QHOCJWHW1L",
        "colab_type": "text"
      },
      "source": [
        "Si decidimos simular para un número de clientes deseado, debemos cambiar el código anterior por el siguiente:"
      ]
    },
    {
      "cell_type": "code",
      "metadata": {
        "id": "nGu1JDdBD5Pl",
        "colab_type": "code",
        "colab": {}
      },
      "source": [
        "def main(env, serv1, serv2):                           #Recordemos los parámetros que le enviamos en el fragmento de código anterior\n",
        "  for i in range(NroClientes):                         #Se generan N clientes\n",
        "    r = random.random()                                #Generamos número aleatorio\n",
        "    llegada = -LlegaMedia*math.log(r)                  #Transformada inversa para la distribución uniforme\n",
        "    yield env.timeout(llegada)                         #Se deja trasncurrir el tiempo de llegada, la simulación empieza en 0\n",
        "    env.process(cliente(env, i, serv1, serv2))         #Una vez transcurrido el tiempo de una llegada, se invoca la función cliente que se encarga de simular el comportamiento de esta entidad"
      ],
      "execution_count": 0,
      "outputs": []
    },
    {
      "cell_type": "markdown",
      "metadata": {
        "id": "Yi2PyBoeH61K",
        "colab_type": "text"
      },
      "source": [
        "Ahora debemos crear la función con la cual gestionamos el comportamiento de los clientes"
      ]
    },
    {
      "cell_type": "code",
      "metadata": {
        "id": "QKmQIvGqIBt6",
        "colab_type": "code",
        "colab": {}
      },
      "source": [
        "def cliente(env, nombre, serv1, serv2):           #Le pasamos los parámetros que definimos en el bloque de código anterior, en este caso el nombre del cliente es 'i' con i = 1,...,n\n",
        "  global TiempoEspCola1                           #Esta línea nos permite modificar la variable TiempoEspCola1 y que los cambios se conserven en todo el código, si no se pone, la variable solo se cambia localmente\n",
        "  global TiempoEspCola2                           #Esta línea nos permite modificar la variable TiempoEspCola2 y que los cambios se conserven en todo el código, si no se pone, la variable solo se cambia localmente\n",
        "  global NroClientesSalCo1\n",
        "  global NroClientesSalCo2\n",
        "  llega = env.now                                 #registramos el tiempo en el que llegó el cliente al sistema\n",
        "  print(\"T = %.1f -> Cliente %d llegó al sistema\" % (llega, nombre + 1))\n",
        "  \n",
        "  with serv1.request() as req:                    #Se pregunta si el serv1 está ocupado (Alguno de los carniceros), si el servidor está ocupado el cliente se encola\n",
        "    yield req                                     #El cliente obtiene el turno\n",
        "    pasa = env.now                                # Se obtiene el tiempo en el que el cliente pasa a ser atendido en el servidor 1\n",
        "    espera = pasa - llega                         # Se calcula el tiempo que estuvo en cola\n",
        "    TiempoEspCola1 += espera\n",
        "    NroClientesSalCo1 +=1\n",
        "    print (\"T = %.1f -> Cliente %d empieza a ser atendido por carnicero, después de %.1f segundos en cola\" % (pasa, nombre + 1, espera))\n",
        "    yield env.process(carnicero(nombre))          #Se invoca el proceso donde es atendido el cliente\n",
        "    \n",
        "    serv1.release(req)                            # Una vez el cliente es atendido por un carnicero, se libera el recurso para que pueda atender a otro cliente\n",
        "    Qpagar = env.now                              #Se registra el tiempo cuando el cliente sale del servidor 1 y entra a la cola del servidor 2\n",
        "    with serv2.request() as req2:                 #Se pregunta si el servidor 2 (la caja) está ocupado, en caso de estarlo se encola\n",
        "      yield req2                                  #Obtiene un turno\n",
        "      pagar = env.now                             #En este momento el cliente salió de la cola y pasa a pagar, se registra este tiempo para calcular la espera\n",
        "      espera2 = pagar - Qpagar                    # Se calcula el tiempo que estuvo en cola\n",
        "      TiempoEspCola2 += espera2\n",
        "      NroClientesSalCo2 +=1\n",
        "      print (\"T = %.1f-> Cliente %d empieza a ser atendido en caja, después de %.1f segundos en cola\" % (pagar, nombre + 1, espera2))\n",
        "      yield env.process(caja(nombre))             # Se invoca la función donde el cliente paga\n",
        "      serv2.release(req2)      "
      ],
      "execution_count": 0,
      "outputs": []
    },
    {
      "cell_type": "markdown",
      "metadata": {
        "id": "8QZ4sHjZN3pN",
        "colab_type": "text"
      },
      "source": [
        "Por último, es necesario programar las funciones que nos representan nuestros dos servidores, el servidor 1, de carniceros, y el servidor 2 la caja. Empecemos con el serividor 1:"
      ]
    },
    {
      "cell_type": "code",
      "metadata": {
        "id": "WNp4YzPvOjWz",
        "colab_type": "code",
        "colab": {}
      },
      "source": [
        "def carnicero(nombre):\n",
        "  global UsoServ1 #Esta línea nos permite modificar la variable UsoServ1 y que los cambios se conserven en todo el código, si no se pone, la variable solo se cambia localmente\n",
        "  r = random.random() #Generamos un número pseudoaleatorio\n",
        "  DServicio = MinServ1 + (MaxServ1 - MinServ1)*r #Se genera un tiempo de servicio a partir de la transformada inversa de la distribución uniforme\n",
        "  salida = env.now + DServicio\n",
        "  UsoServ1 += DServicio # Acumulamos el tiempo de uso del servidor 1\n",
        "  print (\"T = %.1f -> Cliente %d sale del puesto de carnicero\" %(salida, nombre + 1))\n",
        "  yield env.timeout(DServicio) # Se deja transcurrir la duración del servicio en el sistema"
      ],
      "execution_count": 0,
      "outputs": []
    },
    {
      "cell_type": "markdown",
      "metadata": {
        "id": "5aQSc-nAQYEE",
        "colab_type": "text"
      },
      "source": [
        "Ahora configuramos el servidor dos y el programa estará listo para simular la carnicería."
      ]
    },
    {
      "cell_type": "code",
      "metadata": {
        "id": "3583nHW1Qpcq",
        "colab_type": "code",
        "colab": {}
      },
      "source": [
        "def caja(nombre):\n",
        "  global UsoServ2                                        #Esta línea nos permite modificar la variable UsoServ2 y que los cambios se conserven en todo el código, si no se pone, la variable solo se cambia localmente\n",
        "  global NroClientesAtendidos\n",
        "  global TiempoFinUltCliente\n",
        "  r = random.random()                                    #Generamos un número pseudoaleatorio\n",
        "  DServicio = MinServ2 + (MaxServ2 - MinServ2)*r         #Se genera un tiempo de servicio a partir de la transformada inversa de la distribución uniforme.\n",
        "                                                         #note que usamos el mínimo y el máximo para el servidor 2\n",
        "  salida = env.now + DServicio\n",
        "  UsoServ2 += DServicio                                  #Acumulamos el tiempo de uso del servidor 2\n",
        "  print (\"T = %.1f -> Cliente %d paga su compra y sale del sistema\" %(salida, nombre + 1))\n",
        "  yield env.timeout(DServicio)                           #Se deja transcurrir la duración del servicio en el sistema\n",
        "  NroClientesAtendidos += 1\n",
        "  TiempoFinUltCliente = env.now"
      ],
      "execution_count": 0,
      "outputs": []
    },
    {
      "cell_type": "markdown",
      "metadata": {
        "id": "gZnYX3TQqHhT",
        "colab_type": "text"
      },
      "source": [
        "A continuación se muestra como calcular las medidas de desempeño:"
      ]
    },
    {
      "cell_type": "code",
      "metadata": {
        "id": "44WOT4SoqH0J",
        "colab_type": "code",
        "colab": {}
      },
      "source": [
        "#------------Medidas de Desempeño---------------#\n",
        "print(\"\\n\\n-------------------Medidas de desempeño-----------------------\")\n",
        "PorcentajeUso = (UsoServ1/2)*100/TiempoSimulacion                                                                     # Se toman los dos servidores como uno solo(se promedia su tiempo de uso) y se saca su factor porcentual respecto a el tiempo final de la simulación\n",
        "print(\"Utilización de los puestos de carnicero: %.2f%%\" % PorcentajeUso)\n",
        "\n",
        "PorcentajeUso2 = (UsoServ2)*100/TiempoSimulacion                                                                      # Se hace de igual manera que el anterior, la diferencia es que este no se divide por dos ya que este servidor solo tiene un recurso\n",
        "print(\"Utilización del servidor 2: %.2f%%\" % PorcentajeUso2)\n",
        "\n",
        "if (NroClientesSalCo1 == 0):\n",
        "  print(\"Tiempo de espera promedio en cola 1 : 0 segundos\")\n",
        "else:\n",
        "  print(\"Tiempo de espera promedio en cola 1 : %.2f segundos\" % (TiempoEspCola1/NroClientesSalCo1))                   # Se obtiene este indicador, a partir del tiempo que esperaron las entidades que lograron salir de la cola\n",
        "\n",
        "\n",
        "if (NroClientesSalCo2 == 0):\n",
        "  print(\"Tiempo de espera promedio en cola 2 : 0 segundos\")\n",
        "else:\n",
        "   print(\"Tiempo de espera promedio en cola 2 : %.2f segundos\" % (TiempoEspCola2/NroClientesSalCo2))                  # De igual manera que la anterior pero para la cola del servidor 2\n",
        "    \n",
        "if (NroClientesAtendidos == 0):\n",
        "  print(\"Tiempo de promedio de clientes en el sistema : 0 segundos\")\n",
        "else:\n",
        "  print(\"Tiempo de promedio de clientes en el sistema : %.2f segundos\" % (TiempoFinUltCliente/NroClientesAtendidos))    # Se obtiene a partir del tiempo que registraron en el sistema las entidades que lograron salir del sistema."
      ],
      "execution_count": 0,
      "outputs": []
    },
    {
      "cell_type": "markdown",
      "metadata": {
        "id": "swm0FXcQY6Nz",
        "colab_type": "text"
      },
      "source": [
        "Así quedaría el código completo:"
      ]
    },
    {
      "cell_type": "code",
      "metadata": {
        "id": "iZvrrH4aRIVL",
        "colab_type": "code",
        "outputId": "fbdaf40e-5eb6-42de-d4f1-1e7056237cf8",
        "colab": {
          "base_uri": "https://localhost:8080/",
          "height": 765
        }
      },
      "source": [
        "import random              #Se importa la librería para generar números pseudoaleatorios\n",
        "import math                #Se importa a librería para usar funciones matemáticas como logaritmo natural\n",
        "import simpy               #Se importa la librería necesaria para simular. (Es necesario instalarla)\n",
        "\n",
        "NroClientes = 5            #Definimos la cantidad de clientes que queremos que lleguen a nuestro sistema\n",
        "TiempoSimulacion = 1800    #Si queremos podemos definir un tiempo de simulación(Ya no dependerá del número de clientes). Recordemos que está en segundos\n",
        "LlegaMedia = 180           # Parámetro de la distribución exponencial\n",
        "MinServ1 = 360             # Parámetros de la distribución uniforme para el tiempo de servicio en el servidor 1\n",
        "MaxServ1 = 540\n",
        "MinServ2 = 180             # Parámetros de la distribución uniforme para el tiempo de servicio en el servidor 1\n",
        "MaxServ2 = 360\n",
        "RSeed = 40                 # Usaremos como semilla para replicar la secuencia de números pseudoaleatorios\n",
        "#---------Variables de desempeño: estos auxiliares nos van a servir para calcular las variables de desempeño -------#\n",
        "UsoServ1 = 0.0             #Utilización del servidor 1\n",
        "UsoServ2 = 0.0             #Utilización del servidor 2\n",
        "TiempoFinUltCliente = 0.0  #Tiempo total de las entidades en el sistema (Sólo toma en cuenta las que salieron del sistema)\n",
        "NroClientesAtendidos = 0.0 #Cantidad de clientes que salieron del sistema \n",
        "TiempoEspCola1 = 0.0       #Tiempo total espera en cola 1 (Solo tiene en cuenta los clientes que salieron de cola)\n",
        "NroClientesSalCo1 = 0.0    #Número de clientes que salieron de cola 1\n",
        "TiempoEspCola2 = 0.0       #Tiempo total espera en cola 2\n",
        "NroClientesSalCo2= 0.0     #Número de clientes que salieron de cola 2\n",
        "\n",
        "\n",
        "\n",
        "def main(env, serv1, serv2):                    #Recordemos los parámetros que le enviamos en el fragmento de código anterior\n",
        "  i = 0\n",
        "  while True:                                   #Se ejecuta hasta que se acabe el tiempo\n",
        "    r = random.random()                         #Generamos número aleatorio\n",
        "    llegada = -LlegaMedia*math.log(r)           #Transformada inversa para la distribución exponencial\n",
        "    yield env.timeout(llegada)                  #Se deja trasncurri el tiempo de llegada, la simulación empieza en 0    \n",
        "    env.process(cliente(env, i, serv1, serv2))  # Una vez transcurrido el tiempo de una llegada, se invoca la función cliente que se encarga de simular el comportamiento de esta entidad\n",
        "    i += 1\n",
        "    \n",
        "\n",
        "    \n",
        "def cliente(env, nombre, serv1, serv2):           #Le pasamos los parámetros que definimos en el bloque de código anterior, en este caso el nombre del cliente es 'i' con i = 1,...,n\n",
        "  global TiempoEspCola1                           #Esta línea nos permite modificar la variable TiempoEspCola1 y que los cambios se conserven en todo el código, si no se pone, la variable solo se cambia localmente\n",
        "  global TiempoEspCola2                           #Esta línea nos permite modificar la variable TiempoEspCola2 y que los cambios se conserven en todo el código, si no se pone, la variable solo se cambia localmente\n",
        "  global NroClientesSalCo1\n",
        "  global NroClientesSalCo2\n",
        "  llega = env.now                                 #registramos el tiempo en el que llegó el cliente al sistema\n",
        "  print(\"T = %.1f -> Cliente %d llegó al sistema\" % (llega, nombre + 1))\n",
        "  \n",
        "  with serv1.request() as req:                    #Se pregunta si el serv1 está ocupado (Alguno de los carniceros), si el servidor está ocupado el cliente se encola\n",
        "    yield req                                     #El cliente obtiene el turno\n",
        "    pasa = env.now                                # Se obtiene el tiempo en el que el cliente pasa a ser atendido en el servidor 1\n",
        "    espera = pasa - llega                         # Se calcula el tiempo que estuvo en cola\n",
        "    TiempoEspCola1 += espera\n",
        "    NroClientesSalCo1 +=1\n",
        "    print (\"T = %.1f -> Cliente %d empieza a ser atendido por carnicero, después de %.1f segundos en cola\" % (pasa, nombre + 1, espera))\n",
        "    yield env.process(carnicero(nombre))          #Se invoca el proceso donde es atendido el cliente\n",
        "    \n",
        "    serv1.release(req)                            # Una vez el cliente es atendido por un carnicero, se libera el recurso para que pueda atender a otro cliente\n",
        "    Qpagar = env.now                              #Se registra el tiempo cuando el cliente sale del servidor 1 y entra a la cola del servidor 2\n",
        "    with serv2.request() as req2:                 #Se pregunta si el servidor 2 (la caja) está ocupado, en caso de estarlo se encola\n",
        "      yield req2                                  #Obtiene un turno\n",
        "      pagar = env.now                             #En este momento el cliente salió de la cola y pasa a pagar, se registra este tiempo para calcular la espera\n",
        "      espera2 = pagar - Qpagar                    # Se calcula el tiempo que estuvo en cola\n",
        "      TiempoEspCola2 += espera2\n",
        "      NroClientesSalCo2 +=1\n",
        "      print (\"T = %.1f-> Cliente %d empieza a ser atendido en caja, después de %.1f segundos en cola\" % (pagar, nombre + 1, espera2))\n",
        "      yield env.process(caja(nombre))             # Se invoca la función donde el cliente paga\n",
        "      serv2.release(req2)       \n",
        "      \n",
        "      \n",
        "  \n",
        "def carnicero(nombre):\n",
        "  global UsoServ1 #Esta línea nos permite modificar la variable UsoServ1 y que los cambios se conserven en todo el código, si no se pone, la variable solo se cambia localmente\n",
        "  r = random.random() #Generamos un número pseudoaleatorio\n",
        "  DServicio = MinServ1 + (MaxServ1 - MinServ1)*r #Se genera un tiempo de servicio a partir de la transformada inversa de la distribución uniforme\n",
        "  salida = env.now + DServicio\n",
        "  UsoServ1 += DServicio # Acumulamos el tiempo de uso del servidor 1\n",
        "  print (\"T = %.1f -> Cliente %d sale del puesto de carnicero\" %(salida, nombre + 1))\n",
        "  yield env.timeout(DServicio) # Se deja transcurrir la duración del servicio en el sistema\n",
        "  \n",
        "  \n",
        "def caja(nombre):\n",
        "  global UsoServ2                                        #Esta línea nos permite modificar la variable UsoServ2 y que los cambios se conserven en todo el código, si no se pone, la variable solo se cambia localmente\n",
        "  global NroClientesAtendidos\n",
        "  global TiempoFinUltCliente\n",
        "  r = random.random()                                    #Generamos un número pseudoaleatorio\n",
        "  DServicio = MinServ2 + (MaxServ2 - MinServ2)*r         #Se genera un tiempo de servicio a partir de la transformada inversa de la distribución uniforme.\n",
        "                                                         #note que usamos el mínimo y el máximo para el servidor 2\n",
        "  salida = env.now + DServicio\n",
        "  UsoServ2 += DServicio                                  #Acumulamos el tiempo de uso del servidor 2\n",
        "  print (\"T = %.1f -> Cliente %d paga su compra y sale del sistema\" %(salida, nombre + 1))\n",
        "  yield env.timeout(DServicio)                           #Se deja transcurrir la duración del servicio en el sistema\n",
        "  NroClientesAtendidos += 1\n",
        "  TiempoFinUltCliente = env.now\n",
        "  \n",
        "  \n",
        "  \n",
        "  \n",
        "print(\"Inicio de la simulación\")\n",
        "#random.seed(RSeed)\n",
        "env = simpy.Environment()                 #Creamos el ambiente de simulación\n",
        "serv1 = simpy.Resource(env, 2)            #Creamos el servidor 1, las entrada env representa el ambiente al que está asociado el servidor\n",
        "                                          #El 2 representa el número de recursos(carniceros)\n",
        "serv2 = simpy.Resource(env, 1)            # Igual que el anterior, pero notar que en este sólo hay un recurso (La caja)\n",
        "env.process(main(env, serv1, serv2))      #Invocamos el método principal donde se configura la simulación.\n",
        "env.run(until = TiempoSimulacion)         #Corremos la simulación. Si queremos que la simulación corra para un número de clientes deseado solo debemos quitar la instrucción 'until = TiempoSimulacion'\n",
        "                                          #Además, tendremos que cambiar la función 'main', como se indicará posteriormente.\n",
        "\n",
        "#------------Medidas de Desempeño---------------#\n",
        "print(\"\\n\\n-------------------Medidas de desempeño-----------------------\")\n",
        "PorcentajeUso = (UsoServ1/2)*100/TiempoSimulacion                                                                     # Se toman los dos servidores como uno solo(se promedia su tiempo de uso) y se saca su factor porcentual respecto a el tiempo final de la simulación\n",
        "print(\"Utilización de los puestos de carnicero: %.2f%%\" % PorcentajeUso)\n",
        "\n",
        "PorcentajeUso2 = (UsoServ2)*100/TiempoSimulacion                                                                      # Se hace de igual manera que el anterior, la diferencia es que este no se divide por dos ya que este servidor solo tiene un recurso\n",
        "print(\"Utilización del servidor 2: %.2f%%\" % PorcentajeUso2)\n",
        "\n",
        "if (NroClientesSalCo1 == 0):\n",
        "  print(\"Tiempo de espera promedio en cola 1 : 0 segundos\")\n",
        "else:\n",
        "  print(\"Tiempo de espera promedio en cola 1 : %.2f segundos\" % (TiempoEspCola1/NroClientesSalCo1))                   # Se obtiene este indicador, a partir del tiempo que esperaron las entidades que lograron salir de la cola\n",
        "\n",
        "\n",
        "if (NroClientesSalCo2 == 0):\n",
        "  print(\"Tiempo de espera promedio en cola 2 : 0 segundos\")\n",
        "else:\n",
        "   print(\"Tiempo de espera promedio en cola 2 : %.2f segundos\" % (TiempoEspCola2/NroClientesSalCo2))                  # De igual manera que la anterior pero para la cola del servidor 2\n",
        "    \n",
        "if (NroClientesAtendidos == 0):\n",
        "  print(\"Tiempo de promedio de clientes en el sistema : 0 segundos\")\n",
        "else:\n",
        "  print(\"Tiempo de promedio de clientes en el sistema : %.2f segundos\" % (TiempoFinUltCliente/NroClientesAtendidos))    # Se obtiene a partir del tiempo que registraron en el sistema las entidades que lograron salir del sistema."
      ],
      "execution_count": 0,
      "outputs": [
        {
          "output_type": "stream",
          "text": [
            "Inicio de la simulación\n",
            "T = 263.6 -> Cliente 1 llegó al sistema\n",
            "T = 263.6 -> Cliente 1 empieza a ser atendido por carnicero, después de 0.0 segundos en cola\n",
            "T = 692.9 -> Cliente 1 sale del puesto de carnicero\n",
            "T = 393.4 -> Cliente 2 llegó al sistema\n",
            "T = 393.4 -> Cliente 2 empieza a ser atendido por carnicero, después de 0.0 segundos en cola\n",
            "T = 886.3 -> Cliente 2 sale del puesto de carnicero\n",
            "T = 562.1 -> Cliente 3 llegó al sistema\n",
            "T = 655.7 -> Cliente 4 llegó al sistema\n",
            "T = 692.9-> Cliente 1 empieza a ser atendido en caja, después de 0.0 segundos en cola\n",
            "T = 898.9 -> Cliente 1 paga su compra y sale del sistema\n",
            "T = 692.9 -> Cliente 3 empieza a ser atendido por carnicero, después de 130.8 segundos en cola\n",
            "T = 1165.8 -> Cliente 3 sale del puesto de carnicero\n",
            "T = 886.3 -> Cliente 4 empieza a ser atendido por carnicero, después de 230.6 segundos en cola\n",
            "T = 1303.6 -> Cliente 4 sale del puesto de carnicero\n",
            "T = 898.9-> Cliente 2 empieza a ser atendido en caja, después de 12.6 segundos en cola\n",
            "T = 1200.8 -> Cliente 2 paga su compra y sale del sistema\n",
            "T = 905.8 -> Cliente 5 llegó al sistema\n",
            "T = 1111.1 -> Cliente 6 llegó al sistema\n",
            "T = 1165.8 -> Cliente 5 empieza a ser atendido por carnicero, después de 259.9 segundos en cola\n",
            "T = 1611.7 -> Cliente 5 sale del puesto de carnicero\n",
            "T = 1200.8-> Cliente 3 empieza a ser atendido en caja, después de 35.1 segundos en cola\n",
            "T = 1477.0 -> Cliente 3 paga su compra y sale del sistema\n",
            "T = 1201.6 -> Cliente 7 llegó al sistema\n",
            "T = 1303.6 -> Cliente 6 empieza a ser atendido por carnicero, después de 192.4 segundos en cola\n",
            "T = 1778.1 -> Cliente 6 sale del puesto de carnicero\n",
            "T = 1449.7 -> Cliente 8 llegó al sistema\n",
            "T = 1477.0-> Cliente 4 empieza a ser atendido en caja, después de 173.4 segundos en cola\n",
            "T = 1780.0 -> Cliente 4 paga su compra y sale del sistema\n",
            "T = 1611.7 -> Cliente 7 empieza a ser atendido por carnicero, después de 410.1 segundos en cola\n",
            "T = 2039.2 -> Cliente 7 sale del puesto de carnicero\n",
            "T = 1730.7 -> Cliente 9 llegó al sistema\n",
            "T = 1778.1 -> Cliente 8 empieza a ser atendido por carnicero, después de 328.4 segundos en cola\n",
            "T = 2236.0 -> Cliente 8 sale del puesto de carnicero\n",
            "T = 1780.0-> Cliente 5 empieza a ser atendido en caja, después de 168.3 segundos en cola\n",
            "T = 2024.7 -> Cliente 5 paga su compra y sale del sistema\n",
            "\n",
            "\n",
            "-------------------Medidas de desempeño-----------------------\n",
            "Utilización de los puestos de carnicero: 100.50%\n",
            "Utilización del servidor 2: 73.99%\n",
            "Tiempo de espera promedio en cola 1 : 194.03 segundos\n",
            "Tiempo de espera promedio en cola 2 : 77.86 segundos\n",
            "Tiempo de promedio de clientes en el sistema : 444.99 segundos\n"
          ],
          "name": "stdout"
        }
      ]
    },
    {
      "cell_type": "markdown",
      "metadata": {
        "id": "0QFdJMYvri2B",
        "colab_type": "text"
      },
      "source": [
        "##Referencias\n",
        "- García (2018). *Simulación en Python usando Simpy: llegadas y servicio*. Disponible en https://naps.com.mx/blog/simulacion-en-python-usando-simpy/\n",
        "\n",
        "- Team SimPy (2019). *simpy.resources — Shared resource primitives* .Disponible en https://simpy.readthedocs.io/en/latest/api_reference/simpy.resources.html#module-simpy.resources.resource"
      ]
    }
  ]
}