{
  "nbformat": 4,
  "nbformat_minor": 0,
  "metadata": {
    "kernelspec": {
      "display_name": "Python 3",
      "language": "python",
      "name": "python3"
    },
    "language_info": {
      "codemirror_mode": {
        "name": "ipython",
        "version": 3
      },
      "file_extension": ".py",
      "mimetype": "text/x-python",
      "name": "python",
      "nbconvert_exporter": "python",
      "pygments_lexer": "ipython3",
      "version": "3.7.3"
    },
    "colab": {
      "name": "2. Simulacion de eventos discretos: Cola simple.ipynb",
      "version": "0.3.2",
      "provenance": [],
      "toc_visible": true,
      "include_colab_link": true
    }
  },
  "cells": [
    {
      "cell_type": "markdown",
      "metadata": {
        "id": "view-in-github",
        "colab_type": "text"
      },
      "source": [
        "<a href=\"https://colab.research.google.com/github/Jofdiazdi/TalleresSimpy/blob/master/Talleres/2.%20Simulacion%20de%20eventos%20discretos.ipynb\" target=\"_parent\"><img src=\"https://colab.research.google.com/assets/colab-badge.svg\" alt=\"Open In Colab\"/></a>"
      ]
    },
    {
      "cell_type": "markdown",
      "metadata": {
        "id": "sLpKrAtw3LqO",
        "colab_type": "text"
      },
      "source": [
        "# Simulación en Python usando Simpy: cola simple\n",
        "\n",
        "---\n",
        "Ahora veremos un ejemplo de simpy para la simulacion de una cola simple.\n",
        "\n",
        "El enunciado es el siguiente:\n",
        " \n",
        "Una peluquería tiene un peluquero que se demora entre 15 y 30 minutos por corte. La peluquería recibe en promedio 3 clientes por hora (es decir, uno cada 20 minutos). Se desea simular las llegadas y servicios de 5 clientes. \n",
        "\n",
        "Una vez realizado el código, podremos variar cualquiera de éstos parámetros (tener varios peluqueros, cambiar el tiempo que se demoran por corte, simular para n clientes o para un tiempo específico como una cierta cantidad de minutos, etc).\n",
        "\n",
        "Antes de empezar primero verificamos que simpy este instalado:\n"
      ]
    },
    {
      "cell_type": "code",
      "metadata": {
        "id": "KMqewcejAf_d",
        "colab_type": "code",
        "outputId": "61669516-068c-4a51-9e5b-3301342b556d",
        "colab": {
          "base_uri": "https://localhost:8080/",
          "height": 85
        }
      },
      "source": [
        "# EJECUTAR PARA INSTALAR simpy\n",
        "!pip install simpy"
      ],
      "execution_count": 0,
      "outputs": [
        {
          "output_type": "stream",
          "text": [
            "Collecting simpy\n",
            "  Downloading https://files.pythonhosted.org/packages/5a/64/8f0fc71400d41b6c2c6443d333a1cade458d23d4945ccda700c810ff6aae/simpy-3.0.11-py2.py3-none-any.whl\n",
            "Installing collected packages: simpy\n",
            "Successfully installed simpy-3.0.11\n"
          ],
          "name": "stdout"
        }
      ]
    },
    {
      "cell_type": "markdown",
      "metadata": {
        "id": "_6YM8iSzvPC-",
        "colab_type": "text"
      },
      "source": [
        "## Simulación de eventos discretos\n"
      ]
    },
    {
      "cell_type": "markdown",
      "metadata": {
        "id": "raU4oBlZ1vMJ",
        "colab_type": "text"
      },
      "source": [
        "Primero se deben importar las librerias que vamos a usar:\n",
        "\n",
        "**random**: Libreria que nos ayuda a generar numeros aleatoreos con las diferentes distribuciones.\n",
        "\n",
        "**math**: Libreria matematica de python"
      ]
    },
    {
      "cell_type": "code",
      "metadata": {
        "id": "mKo2nGyf0K0e",
        "colab_type": "code",
        "colab": {}
      },
      "source": [
        "# Cargando las bibliotecas a utilizar\n",
        "import random   # Para generar números pseudoaleatorios\n",
        "import math     # Para la funcion logaritmo\n",
        "import simpy    # Proporciona un entorno de simulacion"
      ],
      "execution_count": 0,
      "outputs": []
    },
    {
      "cell_type": "markdown",
      "metadata": {
        "id": "yZaLB6HQ2whM",
        "colab_type": "text"
      },
      "source": [
        "Primero definimos las variables que vamos a utilizar:"
      ]
    },
    {
      "cell_type": "code",
      "metadata": {
        "id": "5SfvrvM2vodG",
        "colab_type": "code",
        "colab": {}
      },
      "source": [
        "# Definoendo las constantes y variables a utilizar\n",
        "SEMILLA = 30                #Semilla para replicar el comportamiento del sistema\n",
        "NUM_PELUQUEROS = 1          # Numero de peluqueros en la peliqueria\n",
        "TIEMPO_CORTE_MIN = 15       # Tiempo minimo de corte\n",
        "TIEMPO_CORTE_MAX = 30       # Tiempo maximo de corte\n",
        "T_LLEGADAS = 20             # Tiempo entre llegadas \"Lamda\"\n",
        "TIEMPO_SIMULACION = 480     # Tiempo Maximo de simulacion\n",
        "TOT_CLIENTES = 5            # Numero de clientes a atender\n",
        "\n",
        "# Variables de desempeño\n",
        "te  = 0.0   # tiempo de espera total\n",
        "dt  = 0.0   # duracion de servicio total\n",
        "fin = 0.0   # minuto en el que finaliza"
      ],
      "execution_count": 0,
      "outputs": []
    },
    {
      "cell_type": "markdown",
      "metadata": {
        "id": "zP9Qo8Qp0TT7",
        "colab_type": "text"
      },
      "source": [
        "## Modelando las llegadas de los usuarios\n",
        "\n",
        "Lo primero que vamos amodelar sera el comportamiento de llegada de los usuarios,segun el enunciado se comprotan asi:\n",
        "\n",
        "**_Tiempos de llegadas_**: El tiempo entre llegadas de los clientes a la peluquería es exponencial con media de λ=20 minutos. Los clientes son atendidos con base en la disciplina FIFO (primero en llegar, primero en salir), de modo que las llegadas son calculadas de acuerdo a la siguiente fórmula:\n",
        "\n",
        "T_LLEGADAS = –λ ln(R)\n",
        "\n",
        "Donde R es un número pseudoaleatorio.\n",
        "\n",
        "Para esto python nos da la siguiente funcion que nos devuelve un numero aleatorio con distribucion exponencial: `random.expovariate(λ)`"
      ]
    },
    {
      "cell_type": "code",
      "metadata": {
        "id": "_QKd7r8rwGUp",
        "colab_type": "code",
        "colab": {}
      },
      "source": [
        "def principal (env, personal):                           #Defnimos la funcion de llegadas\n",
        "\tllegada = 0\n",
        "\ti = 0\n",
        "\twhile i<TOT_CLIENTES:                                   #Simulara la llegada de x clientes en este caso 5.\n",
        "\t\tllegada = random.expovariate(T_LLEGADAS)              # Generamos la proxima llegada con una Distribucion exponencial\n",
        "\t\tyield env.timeout(llegada)                            # Agendamos la proxmia llegada en el tiempo generado es decir (env.now + llegada)\n",
        "\t\ti += 1\n",
        "\t\tenv.process(cliente(env, 'Cliente %d' % i, personal)) #Creamos el porceso cliente para que sea ejecutado en el ambiente"
      ],
      "execution_count": 0,
      "outputs": []
    },
    {
      "cell_type": "markdown",
      "metadata": {
        "id": "U9ajIT790iiK",
        "colab_type": "text"
      },
      "source": [
        "## Modelando el servicio de corte\n",
        "\n",
        "Ahora debemos modelar el comportamiento del servicio, en este caso el corte, el cual se comporta de la sigueinte manera:\n",
        "\n",
        "**_Tiempos de servicio_**: Los tiempos de servicio son calculados de acuerdo a la siguiente fórmula:\n",
        "\n",
        "tiempo_corte = TIEMPO_CORTE_MIN + (TIEMPO_CORTE_MAX – TIEMPO_CORTE_MIN)*R\n",
        "\n",
        "Esto es: el mínimo de tiempo que se demora el peluquero, en nuestro ejemplo es 15, más la diferencia entre el máximo y el mínimo, en nuestro ejemplo serían 15 minutos (30 menos 15), multiplicado por un número pseudoaleatorio. El resultado nos dará un número entre 15 y 30.\n",
        "\n",
        "Para facilitarnos la vida, la libreria random de python tiene una funcion la cual te da valores uniformes entre 2 numeros: `random.uniform(min,max)`"
      ]
    },
    {
      "cell_type": "code",
      "metadata": {
        "id": "7-OFtVDavvAC",
        "colab_type": "code",
        "colab": {}
      },
      "source": [
        "# Proceso de corte\n",
        "def cortar(cliente):\n",
        "\tglobal dt                                           # Para poder acceder a la variable dt declarada anteriormente \n",
        "\ttiempo_corte = random.uniform(TIEMPO_CORTE_MIN, TIEMPO_CORTE_MAX)       # Distribucion uniforme\n",
        "\tyield env.timeout(tiempo_corte)                     # deja correr el tiempo n minutos\n",
        "\tprint(\" \\o/ Corte listo a %s en %.2f minutos\" % (cliente,tiempo_corte))\n",
        "\tdt = dt + tiempo_corte                              # Acumula los tiempos de uso de la i"
      ],
      "execution_count": 0,
      "outputs": []
    },
    {
      "cell_type": "markdown",
      "metadata": {
        "id": "TW-lk_gw5pJP",
        "colab_type": "text"
      },
      "source": [
        "## Modelado del comportamiento del cliente\n",
        "\n",
        "El comportamiento del cliente es muy sensillo\n",
        "1.   El cliente llega a la peluqueria\n",
        "2.   El cliente pide turno\n",
        "3.   Si el servidor esta desocupado pasa a ser atendido si no espera su turno\n",
        "4.   Espera el corte del cabello\n",
        "5.   Sale de la peluqueria\n",
        "\n",
        "Tambien en medio del proceso aprovecharemos para ir calculando algunas variables de desempecho, en este caso el tiempo promedio de espera."
      ]
    },
    {
      "cell_type": "code",
      "metadata": {
        "id": "wP2w_jcMv1sY",
        "colab_type": "code",
        "colab": {}
      },
      "source": [
        "# Proceso del cliente\n",
        "def cliente (env, name, personal ):\n",
        "\tglobal te\n",
        "\tglobal fin\n",
        "\tllega = env.now                                     # Llega el cleinte y guardasu hora de llegada\n",
        "\tprint (\"---> %s llego a peluqueria en minuto %.2f\" % (name, llega))\n",
        "\twith personal.request() as request:                 # Pide su turno\n",
        "\t\tyield request                                     # Espera a ser atendido\n",
        "\t\tpasa = env.now                                    # Es atendido y guarda el minuto cuado comienza a ser atendido\n",
        "\t\tespera = pasa - llega                             # Calcula el tiempo que espera -> Calculo del tiempo promedio de espera\n",
        "\t\tte = te + espera                                  # Acumula los tiempos de espera -> Calculo del tiempo promedio de espera\n",
        "\t\tprint (\"**** %s pasa con peluquero en minuto %.2f habiendo esperado %.2f\" % (name, pasa, espera))\n",
        "\t\tyield env.process(cortar(name))                   # Espera a que el corte termine\n",
        "    personal.release(request)                         #Libera el turno usado\n",
        "\t\tdeja = env.now                                    # Termina el corte y guarda el minuto en que termina el proceso cortar \n",
        "\t\tprint (\"<--- %s deja peluqueria en minuto %.2f\" % (name, deja))\n",
        "\t\tfin = deja                                        # Conserva globalmente el tiempo en el que el servicio termina y el usuario sale del sistema"
      ],
      "execution_count": 0,
      "outputs": []
    },
    {
      "cell_type": "markdown",
      "metadata": {
        "id": "OuxkUlNv7g1X",
        "colab_type": "text"
      },
      "source": [
        "## Creacion de ambiente y recursos\n",
        "A continuacion creamos el ambiente en donde se simulara el sistema, creamos el proceso inicial y corremos la simulacion."
      ]
    },
    {
      "cell_type": "markdown",
      "metadata": {
        "id": "P3GN22uJ8U0R",
        "colab_type": "text"
      },
      "source": [
        "### Recursos\n",
        "\n",
        "Simpy nos ofrece una herramienta mu util a la hora de modelar recursos limitados como en este caso el personal que ofrese el sevicio.\n",
        "\n",
        "Para ello podemos crear dichos recursos usando:\n",
        "\n",
        "```\n",
        "simpy.Resource(env, capacity)\n",
        "```\n",
        "\n",
        "Para acceder a ellos debemos usar dentrod el proceso que lo decesita las siguientes linies\n",
        "\n",
        "```\n",
        "with {Recurso}.Request() as req:\n",
        "  yield req\n",
        "  #Hacer cosas cuando se tenga el turno\n",
        "  yield env.timeout(tiempo que se uso el recurso)\n",
        "  {Recurso}.Release(req)\n",
        "```\n",
        "\n",
        "Las funciones request() y release() piden y liberan un turno respectivamente es muy importante la linea `yield req` ya que esta nos va a garantizar que se va a esperar el turno.\n",
        "\n",
        "\n",
        "\n"
      ]
    },
    {
      "cell_type": "code",
      "metadata": {
        "id": "aiSAeSRe675l",
        "colab_type": "code",
        "outputId": "ea7c4661-6b19-428c-8dbf-057e8963357c",
        "colab": {
          "base_uri": "https://localhost:8080/",
          "height": 544
        }
      },
      "source": [
        "# PROGRAMA PRINCIPAL    \n",
        "print (\"------------------- Bienvenido Simulacion Peluqueria ------------------\")\n",
        "random.seed (SEMILLA)  # Se inicializa la semilla dle random\n",
        "env = simpy.Environment() # Crea el entorno o ambiente de simulacion\n",
        "personal = simpy.Resource(env, NUM_PELUQUEROS) #Crea los recursos (peluqueros)\n",
        "env.process(principal(env, personal)) #Se crea el proceso que crea los clientes\n",
        "env.run(until = TIEMPO_SIMULACION) #Inicia la simulacion hasta que no halla mas eventos o se cumpla el tiempo de simulacion\n",
        "\n",
        "# Calculo de medidas de desempeño\n",
        "print (\"\\n---------------------------------------------------------------------\")\n",
        "print (\"\\nIndicadores obtenidos: \")\n",
        "\n",
        "lpc = te / fin\n",
        "print (\"\\nLongitud promedio de la cola: %.2f\" % lpc)\n",
        "tep = te / TOT_CLIENTES\n",
        "print (\"Tiempo de espera promedio = %.2f\" % tep)\n",
        "upi = (dt / fin) / NUM_PELUQUEROS\n",
        "print (\"Uso promedio de la instalacion = %.2f\" % upi)\n",
        "print (\"\\n---------------------------------------------------------------------\")\n",
        "\n"
      ],
      "execution_count": 0,
      "outputs": [
        {
          "output_type": "stream",
          "text": [
            "------------------- Bienvenido Simulacion Peluqueria ------------------\n",
            "---> Cliente 1 llego a peluqueria en minuto 12.36\n",
            "**** Cliente 1 pasa con peluquero en minuto 12.36 habiendo esperado 0.00\n",
            " \\o/ Corte listo a Cliente 1 en 15.45 minutos\n",
            "<--- Cliente 1 deja peluqueria en minuto 27.81\n",
            "---> Cliente 2 llego a peluqueria en minuto 37.17\n",
            "**** Cliente 2 pasa con peluquero en minuto 37.17 habiendo esperado 0.00\n",
            "---> Cliente 3 llego a peluqueria en minuto 45.67\n",
            " \\o/ Corte listo a Cliente 2 en 18.15 minutos\n",
            "<--- Cliente 2 deja peluqueria en minuto 55.32\n",
            "**** Cliente 3 pasa con peluquero en minuto 55.32 habiendo esperado 9.65\n",
            "---> Cliente 4 llego a peluqueria en minuto 72.83\n",
            " \\o/ Corte listo a Cliente 3 en 20.96 minutos\n",
            "<--- Cliente 3 deja peluqueria en minuto 76.28\n",
            "**** Cliente 4 pasa con peluquero en minuto 76.28 habiendo esperado 3.45\n",
            "---> Cliente 5 llego a peluqueria en minuto 81.70\n",
            " \\o/ Corte listo a Cliente 4 en 29.83 minutos\n",
            "<--- Cliente 4 deja peluqueria en minuto 106.11\n",
            "**** Cliente 5 pasa con peluquero en minuto 106.11 habiendo esperado 24.41\n",
            " \\o/ Corte listo a Cliente 5 en 21.92 minutos\n",
            "<--- Cliente 5 deja peluqueria en minuto 128.03\n",
            "\n",
            "---------------------------------------------------------------------\n",
            "\n",
            "Indicadores obtenidos: \n",
            "\n",
            "Longitud promedio de la cola: 1.17\n",
            "Tiempo de espera promedio = 30.00\n",
            "Uso promedio de la instalacion = 3.32\n",
            "\n",
            "---------------------------------------------------------------------\n"
          ],
          "name": "stdout"
        }
      ]
    },
    {
      "cell_type": "markdown",
      "metadata": {
        "id": "3H7hgNh39pJe",
        "colab_type": "text"
      },
      "source": [
        "# CONCLUSIÓN\n",
        "\n",
        "La presente simulación en Python usando Simpy es una herramienta para obtener resultados en forma más sencilla que si lo hiciéramos manualmente. Es tambien muy flexible y se pueden crear programas más elaborados que si utilizáramos una hoja de cálculo.\n",
        "\n",
        "Python es un lenguaje multiplataforma, ademas, es software libre, por lo que es ideal para cualquier proyecto académico.\n",
        "\n",
        "Es posible adaptar este programa para resolver diferentes problemas y se puede ampliar para obtener más datos cuya solución manual o matemática pudiera ser complicada.\n",
        "\n",
        "\n"
      ]
    },
    {
      "cell_type": "markdown",
      "metadata": {
        "id": "7ZKqNbt432e_",
        "colab_type": "text"
      },
      "source": [
        "## Referencias\n",
        "\n",
        "Ejemplo tomado de la pagina: García (2018). Simulación en Python usando Simpy: llegadas y servicio. Disponible en https://naps.com.mx/blog/simulacion-en-python-usando-simpy/\n",
        "\n",
        "Mas informacion en la libreria:\n",
        "https://simpy.readthedocs.io/en/latest/"
      ]
    }
  ]
}