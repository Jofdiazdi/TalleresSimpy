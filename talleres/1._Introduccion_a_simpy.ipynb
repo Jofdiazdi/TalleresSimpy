{
  "nbformat": 4,
  "nbformat_minor": 0,
  "metadata": {
    "colab": {
      "name": "1. Introduccion a simpy.ipynb",
      "version": "0.3.2",
      "provenance": [],
      "collapsed_sections": []
    },
    "kernelspec": {
      "name": "python3",
      "display_name": "Python 3"
    }
  },
  "cells": [
    {
      "cell_type": "markdown",
      "metadata": {
        "id": "eJAhJO9OVUtR",
        "colab_type": "text"
      },
      "source": [
        "# Tutorial Simpy\n",
        " ## Conceptos basicos\n",
        " ### Procesos y el anbiente de ejecucion\n",
        " \n",
        " Es una libreria de simulaciondiscreta en done el comportamiento de componentes activos como vehiculos, mensajes o clientes es modelado a partir de procesos. \n",
        "\n",
        "Por ejemplo el comportamiento de un carro:\n",
        "\n",
        "\n",
        "\n",
        "\n"
      ]
    },
    {
      "cell_type": "code",
      "metadata": {
        "id": "xXFUX2-aYNHE",
        "colab_type": "code",
        "colab": {
          "base_uri": "https://localhost:8080/",
          "height": 85
        },
        "outputId": "2a4be122-0d86-4965-c3b7-59f8139dd124"
      },
      "source": [
        "!pip install simpy #Instalamos simpy"
      ],
      "execution_count": 2,
      "outputs": [
        {
          "output_type": "stream",
          "text": [
            "Collecting simpy\n",
            "  Downloading https://files.pythonhosted.org/packages/5a/64/8f0fc71400d41b6c2c6443d333a1cade458d23d4945ccda700c810ff6aae/simpy-3.0.11-py2.py3-none-any.whl\n",
            "Installing collected packages: simpy\n",
            "Successfully installed simpy-3.0.11\n"
          ],
          "name": "stdout"
        }
      ]
    },
    {
      "cell_type": "code",
      "metadata": {
        "id": "t6xr7y8IVSlk",
        "colab_type": "code",
        "colab": {
          "base_uri": "https://localhost:8080/",
          "height": 102
        },
        "outputId": "094ae5ab-3e82-4793-d8c1-664a90c7193f"
      },
      "source": [
        "import simpy #Importamos simpy\n",
        "\n",
        "def carro(env):\n",
        "  while True :\n",
        "    print('Empezo a parquear en el tiempo %d' % env.now)\n",
        "    duracion_parqueo = 5\n",
        "    yield env.timeout(duracion_parqueo)\n",
        "    \n",
        "    print('Empezo a conducir en el tiempo %d' % env.now)\n",
        "    duracion_viaje = 2\n",
        "    yield env.timeout(duracion_viaje)\n",
        "    \n",
        "env = simpy.Environment()\n",
        "env.process(carro(env))\n",
        "env.run(until=15)"
      ],
      "execution_count": 4,
      "outputs": [
        {
          "output_type": "stream",
          "text": [
            "Empezo a parquear en el tiempo 0\n",
            "Empezo a conducir en el tiempo 5\n",
            "Empezo a parquear en el tiempo 7\n",
            "Empezo a conducir en el tiempo 12\n",
            "Empezo a parquear en el tiempo 14\n"
          ],
          "name": "stdout"
        }
      ]
    },
    {
      "cell_type": "markdown",
      "metadata": {
        "id": "OA9YzR2sYo7g",
        "colab_type": "text"
      },
      "source": [
        "El comando  `!pip install simpy` nos ayuda a instalar lalibreria simpy en nuestro ambiente de ejecucion.\n",
        "\n",
        "Para poder usar la libreria tenemos que importarla con el comando `import simpy` luego comenzar a programar la solucion.\n",
        "\n",
        "La siguiente funcion `carro(evn)` modela el comportamiento de un carro el cual se demora un tiempo parqueando y un tiempo en viaje.\n",
        "\n",
        "Posemos distinguir 3 lineas importantes durante la funcion:\n",
        "```\n",
        "print('Empezo a parquear en el tiempo %d' % env.now) #1\n",
        "duracion_parqueo = 5 #2\n",
        "yield env.timeout(duracion_parqueo)#3\n",
        "\n",
        "```\n",
        "\n",
        "En la primera linea podemos destacar la declaracion  `env.now` esta nos proporciona el tiempo de reloj actual de la simulacion.\n",
        "\n",
        "La segunda linea nos define un tiempo de espera \n",
        "y la tercera linea mueve el reloj hacia el tiempo de espera definido.\n",
        "\n",
        "Por ultimo vemos como se inicializa un ambiente, se genera un proceso y se corre el ambiente.\n",
        "\n",
        "```\n",
        "env = simpy.Environment()\n",
        "env.process(carro(env))\n",
        "env.run(until=15)\n",
        "\n",
        "```\n",
        "\n",
        "La funcion `Enviroment()` de simpy nos proporciona un ambiente de ejecusion donde se inicializara un reloj y se correran los procesos.\n",
        "\n",
        "La funcion del `env.process(carro(env))` genera un procesos y le dice al ambiente que la funcion carro debe ser tratada como tal.\n",
        "\n",
        "Por ultimo la funcion  `run(until=15)` simula el sistema por 15 unidades de tiempo"
      ]
    },
    {
      "cell_type": "markdown",
      "metadata": {
        "id": "dGsjWfRVevpF",
        "colab_type": "text"
      },
      "source": [
        "### Interaccion entre procesos"
      ]
    },
    {
      "cell_type": "code",
      "metadata": {
        "id": "yW-tColJeniO",
        "colab_type": "code",
        "colab": {}
      },
      "source": [
        ""
      ],
      "execution_count": 0,
      "outputs": []
    }
  ]
}